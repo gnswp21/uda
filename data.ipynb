{
  "nbformat": 4,
  "nbformat_minor": 0,
  "metadata": {
    "colab": {
      "name": "data.ipynb",
      "provenance": [],
      "collapsed_sections": [],
      "authorship_tag": "ABX9TyPppr9ddSONQ59YTlTcmDcj",
      "include_colab_link": true
    },
    "kernelspec": {
      "name": "python3",
      "display_name": "Python 3"
    },
    "language_info": {
      "name": "python"
    },
    "accelerator": "GPU"
  },
  "cells": [
    {
      "cell_type": "markdown",
      "metadata": {
        "id": "view-in-github",
        "colab_type": "text"
      },
      "source": [
        "<a href=\"https://colab.research.google.com/github/gnswp21/uda/blob/main/data.ipynb\" target=\"_parent\"><img src=\"https://colab.research.google.com/assets/colab-badge.svg\" alt=\"Open In Colab\"/></a>"
      ]
    },
    {
      "cell_type": "code",
      "metadata": {
        "id": "OBKTRty-Ktwc"
      },
      "source": [
        "import torch\n",
        "from torchtext import data, datasets\n",
        "import random"
      ],
      "execution_count": 3,
      "outputs": []
    },
    {
      "cell_type": "code",
      "metadata": {
        "colab": {
          "base_uri": "https://localhost:8080/"
        },
        "id": "pwZ9_jDXLJfM",
        "outputId": "a79fff1d-f995-4521-943b-afe6bf7b846d"
      },
      "source": [
        "SEED = 5\n",
        "random.seed(SEED)\n",
        "torch.manual_seed(SEED)"
      ],
      "execution_count": 4,
      "outputs": [
        {
          "output_type": "execute_result",
          "data": {
            "text/plain": [
              "<torch._C.Generator at 0x7fc403314db0>"
            ]
          },
          "metadata": {},
          "execution_count": 4
        }
      ]
    },
    {
      "cell_type": "code",
      "metadata": {
        "id": "jPmfuhgJPsyP"
      },
      "source": [
        "!pip install fastBPE regex requests sacremoses subword_nmt\n",
        "!pip install omegaconf\n",
        "!pip install fairseq"
      ],
      "execution_count": null,
      "outputs": []
    },
    {
      "cell_type": "code",
      "metadata": {
        "id": "hpOuAlbDPrU5"
      },
      "source": [
        "# Round-trip translations between English and German:\n",
        "en2de = torch.hub.load('pytorch/fairseq', 'transformer.wmt19.en-de.single_model', tokenizer='moses', bpe='fastbpe')\n",
        "de2en = torch.hub.load('pytorch/fairseq', 'transformer.wmt19.de-en.single_model', tokenizer='moses', bpe='fastbpe')\n",
        "\n",
        "paraphrase = de2en.translate(en2de.translate('PyTorch Hub is an awesome interface!'))\n",
        "assert paraphrase == 'PyTorch Hub is a fantastic interface!'"
      ],
      "execution_count": null,
      "outputs": []
    },
    {
      "cell_type": "code",
      "metadata": {
        "id": "raHYx-3NNIwe",
        "colab": {
          "base_uri": "https://localhost:8080/"
        },
        "outputId": "967d6547-1cbc-43c9-bf83-a3a862beab9d"
      },
      "source": [
        "#train_iter, test_iter = datasets.IMDB(root='data', split=('train', 'test'))\n",
        "train_iter = datasets.IMDB(split=('train'))"
      ],
      "execution_count": 5,
      "outputs": [
        {
          "output_type": "stream",
          "name": "stderr",
          "text": [
            "aclImdb_v1.tar.gz: 100%|██████████| 84.1M/84.1M [00:01<00:00, 44.4MB/s]\n"
          ]
        }
      ]
    },
    {
      "cell_type": "code",
      "metadata": {
        "id": "i3a2msXGUL0x"
      },
      "source": [
        "from torchtext.data.utils import get_tokenizer\n",
        "from torchtext.vocab import build_vocab_from_iterator\n",
        "\n",
        "tokenizer = get_tokenizer('basic_english')\n",
        "\n",
        "def yield_tokens(data_iter):\n",
        "    for _, text in data_iter:\n",
        "        yield tokenizer(text)\n",
        "\n",
        "vocab = build_vocab_from_iterator(yield_tokens(train_iter), specials=[\"<unk>\"])\n",
        "vocab.set_default_index(vocab[\"<unk>\"])\n"
      ],
      "execution_count": 6,
      "outputs": []
    },
    {
      "cell_type": "code",
      "metadata": {
        "id": "j2jLGgOxUL3T"
      },
      "source": [
        "text_pipeline = lambda x: vocab(tokenizer(x))\n",
        "def text_pipeline(x):\n",
        "  x = vocab(tokenizer(x))\n",
        "  if len(x) >= 500:\n",
        "    return x[:500]\n",
        "  else:\n",
        "    zeros = [0 for i in range(500)]\n",
        "    zeros[:len(x)] = x[:]\n",
        "    return zeros\n",
        "\n",
        "label_pipeline = lambda x: 0 if x == 'neg' else 1"
      ],
      "execution_count": 7,
      "outputs": []
    },
    {
      "cell_type": "code",
      "metadata": {
        "id": "M3NF0nyB0DHX"
      },
      "source": [
        "from torch.utils.data import DataLoader\n",
        "from torchtext.datasets import AG_NEWS\n",
        "from torch.nn.utils.rnn import pad_sequence\n",
        "\n",
        "device = torch.device(\"cuda\" if torch.cuda.is_available() else \"cpu\")\n",
        "\n",
        "def collate_batch(batch):\n",
        "    label_list, text_list = [], []\n",
        "    for (_label, _text) in batch:\n",
        "         label_list.append(label_pipeline(_label))\n",
        "         processed_text = torch.tensor(text_pipeline(_text),dtype=torch.int64)\n",
        "         text_list.append(processed_text)\n",
        "    label_list = torch.tensor(label_list, dtype=torch.int64)\n",
        "    text_list = pad_sequence(text_list, batch_first=True, padding_value=0)\n",
        "    return label_list.to(device), text_list.to(device)\n",
        "\n",
        "\n",
        "train_loader = DataLoader(train_iter, batch_size=30,collate_fn=collate_batch)"
      ],
      "execution_count": 8,
      "outputs": []
    }
  ]
}