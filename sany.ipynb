{
 "cells": [
  {
   "cell_type": "code",
   "execution_count": 2,
   "source": [
    "from utils import configuration\n",
    "from utils.utils import set_seeds\n",
    "import trainer\n",
    "from load_data import load_data\n",
    "\n",
    "import torch.optim as optim\n",
    "import torch.nn as nn\n",
    "import torch\n",
    "\n",
    "from transformers import (\n",
    "    AutoConfig,\n",
    "    AutoModelForSequenceClassification,\n",
    ")\n",
    "\n"
   ],
   "outputs": [],
   "metadata": {}
  },
  {
   "cell_type": "code",
   "execution_count": 3,
   "source": [
    "cfg = 'config/uda.json'\n",
    "model_cfg = 'config/bert_base.json'\n",
    "cfg = configuration.params.from_json(cfg)\n",
    "model_cfg = configuration.model.from_json(model_cfg)\n",
    "set_seeds(cfg.seed)\n"
   ],
   "outputs": [],
   "metadata": {}
  },
  {
   "cell_type": "code",
   "execution_count": 4,
   "source": [
    "# Load Data & Create Criterion\n",
    "data = load_data(cfg)\n",
    "if cfg.uda_mode:\n",
    "    unsup_criterion = nn.KLDivLoss(reduction='none')\n",
    "    data_iter = [data.sup_data_iter(), data.unsup_data_iter()] if cfg.mode == 'train' \\\n",
    "        else [data.sup_data_iter(), data.unsup_data_iter(), data.eval_data_iter()]  # train_eval\n",
    "else:\n",
    "    raise NotImplemented\n"
   ],
   "outputs": [],
   "metadata": {}
  },
  {
   "cell_type": "code",
   "execution_count": 5,
   "source": [
    "# Load model\n",
    "config = AutoConfig.from_pretrained(\n",
    "    model_cfg.model_name_or_path,\n",
    "    num_labels=model_cfg.num_labels\n",
    ")\n",
    "\n",
    "model = AutoModelForSequenceClassification.from_config(config=config)\n"
   ],
   "outputs": [],
   "metadata": {}
  },
  {
   "cell_type": "code",
   "execution_count": 6,
   "source": [
    "# train\n",
    "optimizer = optim.Adam(model.parameters(), lr=cfg.lr)\n",
    "criterion = nn.CrossEntropyLoss()\n",
    "device = torch.device('cuda')\n"
   ],
   "outputs": [],
   "metadata": {}
  },
  {
   "cell_type": "code",
   "execution_count": null,
   "source": [
    "for step, batch in enumerate(data_iter[0]):\n",
    "    input_ids,\tinput_mask,\tinput_type_ids,\tlabel_ids = batch\n",
    "\n",
    "    logits = model(batch)\n"
   ],
   "outputs": [],
   "metadata": {}
  },
  {
   "cell_type": "code",
   "execution_count": null,
   "source": [
    "# model save\n",
    "\n",
    "# model load"
   ],
   "outputs": [],
   "metadata": {}
  }
 ],
 "metadata": {
  "orig_nbformat": 4,
  "language_info": {
   "name": "python",
   "version": "3.8.5",
   "mimetype": "text/x-python",
   "codemirror_mode": {
    "name": "ipython",
    "version": 3
   },
   "pygments_lexer": "ipython3",
   "nbconvert_exporter": "python",
   "file_extension": ".py"
  },
  "kernelspec": {
   "name": "python3",
   "display_name": "Python 3.8.5 64-bit ('uda': conda)"
  },
  "interpreter": {
   "hash": "961342292b0d5152411d449f6b406d5074b05bb69c5a71f49c708121cac2a35f"
  }
 },
 "nbformat": 4,
 "nbformat_minor": 2
}